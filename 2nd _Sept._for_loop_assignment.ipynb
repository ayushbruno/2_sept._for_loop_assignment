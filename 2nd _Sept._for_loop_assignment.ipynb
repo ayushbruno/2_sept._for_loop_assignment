{
 "cells": [
  {
   "cell_type": "code",
   "execution_count": 12,
   "id": "848f1c54-7009-4837-b77a-515f9d86fa78",
   "metadata": {},
   "outputs": [
    {
     "name": "stdout",
     "output_type": "stream",
     "text": [
      "1\n",
      "2\n",
      "3\n",
      "4\n",
      "5\n",
      "6\n",
      "7\n",
      "8\n",
      "9\n",
      "10\n"
     ]
    }
   ],
   "source": [
    "#Q1.Write a Python program to print the numbers from 1 to 10 using a `for` loop.\n",
    "for i in range(1,11):\n",
    "    print(i)"
   ]
  },
  {
   "cell_type": "code",
   "execution_count": 17,
   "id": "033710b4-dc08-436f-bd78-a1130978a2b0",
   "metadata": {},
   "outputs": [
    {
     "name": "stdout",
     "output_type": "stream",
     "text": [
      "sum of all numbers is: 15\n"
     ]
    }
   ],
   "source": [
    "#Q2. Create a program that calculates the sum of all numbers in a list using a `for` loop.\n",
    "a=[1,2,3,4,5]\n",
    "sum_=0\n",
    "for i in a:\n",
    "    sum_+=i\n",
    "print('sum of all numbers is:',sum_)    "
   ]
  },
  {
   "cell_type": "code",
   "execution_count": 36,
   "id": "3782b493-154c-413f-b41c-c62dbb36bf3b",
   "metadata": {},
   "outputs": [
    {
     "name": "stdout",
     "output_type": "stream",
     "text": [
      "fehc doog a si hsuyA\n"
     ]
    }
   ],
   "source": [
    "#Q3.Write a program to print the characters of a string in reverse order using a `for` loop.\n",
    "a='Ayush is a good chef'\n",
    "b=str()\n",
    "for i in reversed(a):\n",
    "    b+=i\n",
    "print(b) "
   ]
  },
  {
   "cell_type": "code",
   "execution_count": 25,
   "id": "59d603cd-d918-49a1-9baa-8c2da6dec249",
   "metadata": {},
   "outputs": [
    {
     "name": "stdout",
     "output_type": "stream",
     "text": [
      "factorial of a is: 120\n"
     ]
    }
   ],
   "source": [
    "#Q4. Develop a program that finds the factorial of a given number using a `for` loop.\n",
    "a=5\n",
    "factorial=1\n",
    "for i in range (1,a+1):\n",
    "    factorial*=i\n",
    "    \n",
    "print('factorial of a is:',factorial)"
   ]
  },
  {
   "cell_type": "code",
   "execution_count": 52,
   "id": "022e63cb-ea0d-4472-8a61-03857226a0cf",
   "metadata": {},
   "outputs": [
    {
     "name": "stdout",
     "output_type": "stream",
     "text": [
      " 5 x 1= 5\n",
      " 5 x 2= 10\n",
      " 5 x 3= 15\n",
      " 5 x 4= 20\n",
      " 5 x 5= 25\n",
      " 5 x 6= 30\n",
      " 5 x 7= 35\n",
      " 5 x 8= 40\n",
      " 5 x 9= 45\n",
      " 5 x 10= 50\n"
     ]
    }
   ],
   "source": [
    "#Q5. Create a program to print the multiplication table of a given number using a `for` loop.\n",
    "a=5\n",
    "# table=1\n",
    "for i in range(1,11):\n",
    "    table=5*i\n",
    "    print(f\" {5} x {i}= {table}\")\n",
    "    "
   ]
  },
  {
   "cell_type": "code",
   "execution_count": 9,
   "id": "0ad0af47-903a-4fe0-92f3-390d5ea6edf0",
   "metadata": {},
   "outputs": [
    {
     "name": "stdout",
     "output_type": "stream",
     "text": [
      "count of even numbers in a is: 2\n",
      "count of odd numbers in a is: 3\n"
     ]
    }
   ],
   "source": [
    "#Q6.Write a program that counts the number of even and odd numbers in a list using a `for` loop.\n",
    "a=[1,2,3,4,5]\n",
    "even=0\n",
    "odd=0\n",
    "for i in a:\n",
    "    if i % 2 == 0:\n",
    "        even+= 1\n",
    "    else:\n",
    "        odd+= 1\n",
    "print('count of even numbers in a is:',even)\n",
    "print('count of odd numbers in a is:',odd)\n",
    "# ASK THIS"
   ]
  },
  {
   "cell_type": "code",
   "execution_count": 9,
   "id": "7c470416-be4e-43a2-a27f-78da317b4268",
   "metadata": {},
   "outputs": [
    {
     "name": "stdout",
     "output_type": "stream",
     "text": [
      "square of 1 is 1\n",
      "square of 2 is 4\n",
      "square of 3 is 9\n",
      "square of 4 is 16\n",
      "square of 5 is 25\n"
     ]
    }
   ],
   "source": [
    "#Q7.Develop a program that prints the squares of numbers from 1 to 5 using a `for` loop.\n",
    "for i in range(1,6):\n",
    "    square_=i**2\n",
    "    print(f\"square of {i} is\",square_)"
   ]
  },
  {
   "cell_type": "code",
   "execution_count": 2,
   "id": "9a56bf57-3541-465d-bbcc-0ffd38e9bfd4",
   "metadata": {},
   "outputs": [
    {
     "data": {
      "text/plain": [
       "5"
      ]
     },
     "execution_count": 2,
     "metadata": {},
     "output_type": "execute_result"
    }
   ],
   "source": [
    "#Q8.Create a program to find the length of a string without using the `len()` function.\n",
    "a=\"ayush\"\n",
    "length_=0\n",
    "for i in a:\n",
    "    length_+=1\n",
    "length_"
   ]
  },
  {
   "cell_type": "code",
   "execution_count": 5,
   "id": "16d3bec6-66df-4db2-99f7-0edc19e45d13",
   "metadata": {},
   "outputs": [
    {
     "name": "stdout",
     "output_type": "stream",
     "text": [
      "3.0\n"
     ]
    }
   ],
   "source": [
    "#Q9. Write a program that calculates the average of a list of numbers using a `for` loop.\n",
    "a=[1,2,3,4,5]\n",
    "# we need to find total and no. of elements in list then divide them.\n",
    "total=0\n",
    "number_of_elements=0\n",
    "for i in a:\n",
    "    total+=i\n",
    "    number_of_elements+=1\n",
    "average= total/number_of_elements\n",
    "print(average)\n",
    "    \n"
   ]
  },
  {
   "cell_type": "code",
   "execution_count": 9,
   "id": "ccb7b6bf-7b3b-4b33-aedf-d00ac394432a",
   "metadata": {},
   "outputs": [
    {
     "name": "stdin",
     "output_type": "stream",
     "text": [
      "enter the number till where you want fib numbers 10\n"
     ]
    },
    {
     "name": "stdout",
     "output_type": "stream",
     "text": [
      "[1, 1, 2, 3, 5, 8, 13, 21, 34, 55]\n"
     ]
    }
   ],
   "source": [
    "#Q10. Develop a program that prints the first `n` Fibonacci numbers using a `for` loop.\n",
    "def find_fib(n):\n",
    "    fib_list=[]\n",
    "    if n<=0:\n",
    "        return fib_list\n",
    "    a,b=0,1\n",
    "    for _ in range (0,n):\n",
    "        a,b=b,a+b\n",
    "        fib_list.append(a)\n",
    "    return fib_list\n",
    "n=int(input('enter the number till where you want fib numbers'))\n",
    "fib_numbers=find_fib(n)  \n",
    "print(fib_numbers)      \n",
    "        \n",
    " "
   ]
  },
  {
   "cell_type": "code",
   "execution_count": 14,
   "id": "d4545148-3f6d-4c99-bc02-ca31581c534c",
   "metadata": {},
   "outputs": [
    {
     "name": "stdout",
     "output_type": "stream",
     "text": [
      "The list contains duplicates.\n",
      "the duplicate number in list is: 2\n"
     ]
    }
   ],
   "source": [
    "#Q11. Write a program to check if a given list contains any duplicates using a `for` loop.\n",
    "a=[1,2,2,3,4]\n",
    "def any_duplicates(a):\n",
    "    for i in a:\n",
    "        for j in range(i+1 , len(a)):\n",
    "            if a[i] == a[j]:\n",
    "                # return True\n",
    "                # this is to check which no. is duplicate\n",
    "                return j\n",
    "            #return j or return i \n",
    "    return False\n",
    "if any_duplicates(a):\n",
    "    print(\"The list contains duplicates.\")\n",
    "else:\n",
    "    print(\"The list does not contain duplicates.\")\n",
    "\n",
    "print(\"the duplicate number in list is:\",any_duplicates(a))\n",
    "# what if there are more than one duplicates-find out\n"
   ]
  },
  {
   "cell_type": "code",
   "execution_count": 42,
   "id": "5b7a52ef-9b40-4589-a58c-ac0150ed930c",
   "metadata": {},
   "outputs": [
    {
     "ename": "SyntaxError",
     "evalue": "'expression' is an illegal expression for augmented assignment (333407790.py, line 4)",
     "output_type": "error",
     "traceback": [
      "\u001b[0;36m  Cell \u001b[0;32mIn[42], line 4\u001b[0;36m\u001b[0m\n\u001b[0;31m    i%2!=0 and i%1==0 and i+=i:\u001b[0m\n\u001b[0m    ^\u001b[0m\n\u001b[0;31mSyntaxError\u001b[0m\u001b[0;31m:\u001b[0m 'expression' is an illegal expression for augmented assignment\n"
     ]
    }
   ],
   "source": [
    "#Q12.Create a program that prints the prime numbers in a given range using a `for` loop.\n",
    "def prime_number(n):\n",
    "    if i in range(1,n+1):\n",
    "        i%2!=0 and i%1==0 and i+=i:\n",
    "        return i\n",
    "    return false\n",
    "n=10\n",
    "print(prime_number(n))"
   ]
  },
  {
   "cell_type": "code",
   "execution_count": 6,
   "id": "6419cf20-08dc-4151-ac4e-a2a2065075ce",
   "metadata": {},
   "outputs": [
    {
     "name": "stdout",
     "output_type": "stream",
     "text": [
      "3\n"
     ]
    }
   ],
   "source": [
    "#Q13.Develop a program that counts the number of vowels in a string using a `for` loop.\n",
    "a=\"hello!, world\"\n",
    "vowels=0\n",
    "for i in range(0,len(a)):\n",
    "    # if (a[i]!=\" \"):\n",
    "        if(a[i]=='a'or a[i]=='e' or a[i]=='i' or a[i]=='o' or a[i]=='u'\n",
    "           or a[i]=='A' or a[i]=='E' or a[i]=='I' or a[i]=='O' or a[i]=='U'):\n",
    "            vowels+=1\n",
    "print(vowels)            "
   ]
  },
  {
   "cell_type": "code",
   "execution_count": 11,
   "id": "a303f213-9c77-43b4-a675-aae5db30032d",
   "metadata": {},
   "outputs": [
    {
     "data": {
      "text/plain": [
       "56"
      ]
     },
     "execution_count": 11,
     "metadata": {},
     "output_type": "execute_result"
    }
   ],
   "source": [
    "#Q14.Write a program to find the maximum element in a 2D list using a nested `for` loop.\n",
    "#2d list is reffered as matrix\n",
    "matrix = [\n",
    "    [12, 45,],\n",
    "    [23, 56,]\n",
    "]\n",
    "max_element=matrix[0][0] #in normal list we used to take this as just a single [0],but as it is 2d then we hv to take two[0] to initiate.\n",
    "for i in matrix:\n",
    "    for element in i:\n",
    "        if element >max_element:\n",
    "            max_element=element\n",
    "max_element            "
   ]
  },
  {
   "cell_type": "code",
   "execution_count": 21,
   "id": "d6a3498f-2821-44b0-802a-0758a76efcf5",
   "metadata": {},
   "outputs": [
    {
     "name": "stdout",
     "output_type": "stream",
     "text": [
      "Original list: [1, 2, 3, 4, 5, 4, 6]\n",
      "List after removing 4 : [1, 2, 3, 5, 6]\n"
     ]
    }
   ],
   "source": [
    "# #Q15.Create a program that removes all occurrences of a specific element from a list using a `for` loop.\n",
    "def remove_element(list_, element_):\n",
    "    req_list = []\n",
    "    for i in list_:\n",
    "        if i != element_:\n",
    "            req_list.append(i)\n",
    "    return req_list\n",
    "\n",
    "\n",
    "l1 = [1,2,3,4,5,4,6]\n",
    "a = 4\n",
    "\n",
    "new_list = remove_element(l1,a)\n",
    "\n",
    "print(\"Original list:\", l1)\n",
    "print(\"List after removing\", a, \":\", new_list)\n",
    "\n"
   ]
  },
  {
   "cell_type": "code",
   "execution_count": 3,
   "id": "76872eb4-0afc-475a-945c-040f4078d091",
   "metadata": {},
   "outputs": [
    {
     "name": "stdout",
     "output_type": "stream",
     "text": [
      "Multiplication table of 1:\n",
      "1 x 1 = 1\n",
      "1 x 2 = 2\n",
      "1 x 3 = 3\n",
      "1 x 4 = 4\n",
      "1 x 5 = 5\n",
      "1 x 6 = 6\n",
      "1 x 7 = 7\n",
      "1 x 8 = 8\n",
      "1 x 9 = 9\n",
      "1 x 10 = 10\n",
      "\n",
      "Multiplication table of 2:\n",
      "2 x 1 = 2\n",
      "2 x 2 = 4\n",
      "2 x 3 = 6\n",
      "2 x 4 = 8\n",
      "2 x 5 = 10\n",
      "2 x 6 = 12\n",
      "2 x 7 = 14\n",
      "2 x 8 = 16\n",
      "2 x 9 = 18\n",
      "2 x 10 = 20\n",
      "\n",
      "Multiplication table of 3:\n",
      "3 x 1 = 3\n",
      "3 x 2 = 6\n",
      "3 x 3 = 9\n",
      "3 x 4 = 12\n",
      "3 x 5 = 15\n",
      "3 x 6 = 18\n",
      "3 x 7 = 21\n",
      "3 x 8 = 24\n",
      "3 x 9 = 27\n",
      "3 x 10 = 30\n",
      "\n",
      "Multiplication table of 4:\n",
      "4 x 1 = 4\n",
      "4 x 2 = 8\n",
      "4 x 3 = 12\n",
      "4 x 4 = 16\n",
      "4 x 5 = 20\n",
      "4 x 6 = 24\n",
      "4 x 7 = 28\n",
      "4 x 8 = 32\n",
      "4 x 9 = 36\n",
      "4 x 10 = 40\n",
      "\n",
      "Multiplication table of 5:\n",
      "5 x 1 = 5\n",
      "5 x 2 = 10\n",
      "5 x 3 = 15\n",
      "5 x 4 = 20\n",
      "5 x 5 = 25\n",
      "5 x 6 = 30\n",
      "5 x 7 = 35\n",
      "5 x 8 = 40\n",
      "5 x 9 = 45\n",
      "5 x 10 = 50\n",
      "\n"
     ]
    }
   ],
   "source": [
    "#Q16. Develop a program that generates a multiplication table for numbers from 1 to 5 using a nested `for` loop\n",
    "for i in range(1,6):\n",
    "    print(f'Multiplication table of {i}:')\n",
    "    for j in range(1, 11):\n",
    "        result = i * j\n",
    "        print(f'{i} x {j} = {result}')\n",
    "    print()  # this will add blank line between tables\n",
    "\n",
    "    \n",
    "    "
   ]
  },
  {
   "cell_type": "code",
   "execution_count": 5,
   "id": "ddafb194-ca06-49b8-84aa-de6c93c90ed1",
   "metadata": {},
   "outputs": [
    {
     "name": "stdout",
     "output_type": "stream",
     "text": [
      "[0.0, 7.222222222222222, 22.77777777777778, 40.0]\n"
     ]
    }
   ],
   "source": [
    "#Q17.Write a program that converts a list of Fahrenheit temperatures to Celsius using a `for` loop.\n",
    "fahrenhiet_temp=[ 32 ,45,73, 104]\n",
    "celsius_temp=[]\n",
    "for i in fahrenhiet_temp:\n",
    "    celsius= (i- 32) * 5/9\n",
    "    celsius_temp.append(celsius)\n",
    "print(celsius_temp)    \n",
    "\n"
   ]
  },
  {
   "cell_type": "code",
   "execution_count": 16,
   "id": "9ac21f49-6d4d-45d8-a15b-75c86fc359b5",
   "metadata": {},
   "outputs": [
    {
     "name": "stdout",
     "output_type": "stream",
     "text": [
      "common element is: [5, 7]\n"
     ]
    }
   ],
   "source": [
    "#Q18.Create a program to print the common elements from two lists using a `for` loop.\n",
    "a=[1,2,3,4,5,6,7,8,9,10]\n",
    "b=[11,33,5,7,99]\n",
    "common_element=[]\n",
    "for i in a:\n",
    "    for j in b:\n",
    "        if i==j:\n",
    "            common_element.append(i)\n",
    "print(\"common element is:\", common_element)\n",
    "        "
   ]
  },
  {
   "cell_type": "code",
   "execution_count": 15,
   "id": "72e096b9-8636-436a-b20b-184963347443",
   "metadata": {},
   "outputs": [
    {
     "name": "stdin",
     "output_type": "stream",
     "text": [
      "Enter the number of rows: 5\n"
     ]
    },
    {
     "name": "stdout",
     "output_type": "stream",
     "text": [
      "* \n",
      "* * \n",
      "* * * \n",
      "* * * * \n",
      "* * * * * \n"
     ]
    }
   ],
   "source": [
    "#Q19.Develop a program that prints the pattern of right-angled triangles using a `for` loop. Use ‘*’ to draw the pattern.\n",
    "a = int(input(\"Enter the number of rows:\"))\n",
    "\n",
    "# Use a for loop to print the pattern\n",
    "for i in range(1, a + 1):\n",
    "    for j in range(i):\n",
    "        print('*', end=' ')\n",
    "    print()  # Move to the next line after each row\n",
    "\n"
   ]
  },
  {
   "cell_type": "code",
   "execution_count": 19,
   "id": "21ac9f07-59ac-4502-9c15-eed8a077b042",
   "metadata": {},
   "outputs": [
    {
     "name": "stdin",
     "output_type": "stream",
     "text": [
      "Enter first number: 36\n",
      "Enter second number: 60\n"
     ]
    },
    {
     "name": "stdout",
     "output_type": "stream",
     "text": [
      "GCD of 36 and 60 is 12\n"
     ]
    }
   ],
   "source": [
    "#Q20.Write a program to find the greatest common divisor (GCD) of two numbers using a `for` loop.\n",
    "a =int(input(\"Enter first number:\"))\n",
    "b =int(input(\"Enter second number:\"))\n",
    "gcd = 1\n",
    " \n",
    "for i in range(1, max(a, b)):\n",
    "    if a % i == 0 and b % i == 0:\n",
    "        gcd = i\n",
    "print(\"GCD of\", a, \"and\", b, \"is\", gcd)\n",
    "# understand this again"
   ]
  },
  {
   "cell_type": "code",
   "execution_count": 33,
   "id": "7538fda3-dcdb-4a53-8429-43e012e0ac57",
   "metadata": {},
   "outputs": [
    {
     "name": "stdout",
     "output_type": "stream",
     "text": [
      "[2, 4, 6, 8, 10]\n"
     ]
    }
   ],
   "source": [
    "# #Q21. Create a program that calculates the sum of the digits of numbers in a list using a list comprehension.\n",
    "\n",
    "def sum_digit(n):\n",
    "    if n<=9:\n",
    "        return n\n",
    "    else:\n",
    "        return n%10 + sum_digit(n//10)\n",
    "    \n",
    "a=[11,22,33,44,55]\n",
    "req_list=[]\n",
    "for i in a:\n",
    "    sum_of_digits_a=sum_digit(i)\n",
    "    req_list.append(sum_of_digits_a)\n",
    "print(req_list)"
   ]
  },
  {
   "cell_type": "code",
   "execution_count": 7,
   "id": "8aa0acb1-854a-4830-86fe-9aa4bcef5b70",
   "metadata": {},
   "outputs": [
    {
     "name": "stdin",
     "output_type": "stream",
     "text": [
      "Enter a number to find its prime factors:  60\n"
     ]
    },
    {
     "name": "stdout",
     "output_type": "stream",
     "text": [
      "Prime factors of 60: [2, 2, 3, 5]\n"
     ]
    }
   ],
   "source": [
    "#Q22. Write a program to find the prime factors of a given number using a `for` loop and list comprehension.\n",
    "# def prime_factors(n):\n",
    "#     factors = []\n",
    "#     divisor = 2\n",
    "#     while n > 1:\n",
    "#         if n % divisor == 0:\n",
    "#             factors.append(divisor)\n",
    "#             n //= divisor \n",
    "#         else:\n",
    "#             divisor += 1\n",
    "#     return factors\n",
    "\n",
    "# # Input: Get a number from the user\n",
    "# number = int(input(\"Enter a number to find its prime factors: \"))\n",
    "\n",
    "# # Call the function to find prime factors\n",
    "# factors = prime_factors(number)\n",
    "\n",
    "# # Print the prime factors\n",
    "# print(f\"Prime factors of {number}:\", factors)\n",
    "#understand this again and do it multiple times"
   ]
  },
  {
   "cell_type": "code",
   "execution_count": 11,
   "id": "cdd7487f-ffd6-42ee-bdbb-0c624532edc0",
   "metadata": {},
   "outputs": [
    {
     "name": "stdout",
     "output_type": "stream",
     "text": [
      "unique elements from list l1 are:\n",
      " [1, 2, 3, 4, 5, 6, 7]\n"
     ]
    }
   ],
   "source": [
    "#Q23.Develop a program that extracts unique elements from a list and stores them in a new list using a list\n",
    "# comprehension.\n",
    "l1=[1,2,3,4,4,5,5,6,7,7]\n",
    "unique_l1=[x for i,x in enumerate(l1) if x not in l1[:i]]\n",
    "# understand this again\n",
    "print(\"unique elements from list l1 are:\\n\",unique_l1)\n"
   ]
  },
  {
   "cell_type": "code",
   "execution_count": 24,
   "id": "0dd022b8-2609-4948-8086-9959194b3bd7",
   "metadata": {},
   "outputs": [
    {
     "name": "stdin",
     "output_type": "stream",
     "text": [
      "enter the number till you want palindromic list 50\n"
     ]
    },
    {
     "name": "stdout",
     "output_type": "stream",
     "text": [
      "Palindromic number upto 50 is [11, 22, 33, 44]\n"
     ]
    }
   ],
   "source": [
    "#Q24.Create a program that generates a list of all palindromic numbers up to a specified limit using a list\n",
    "# comprehension\n",
    "\n",
    "def is_palindrome(number):\n",
    "    return str(number)== str(number)[::-1]\n",
    "    \n",
    "till_number=int(input(\"enter the number till you want palindromic list\"))\n",
    "    \n",
    "Palindromic_number=[x for x in range(10, till_number+1) if is_palindrome(x)]\n",
    "                \n",
    "print(\"Palindromic number upto\",till_number,'is',Palindromic_number)\n",
    "# UNDERSTAND IT AGAIN & DO IT MULTIPLE TIMES                "
   ]
  },
  {
   "cell_type": "code",
   "execution_count": 26,
   "id": "4f0e83fd-6952-4b7f-8061-150630e4933d",
   "metadata": {},
   "outputs": [
    {
     "name": "stdin",
     "output_type": "stream",
     "text": [
      "Enter a nested list:  [[1,2],[3,4],[5,6]]\n"
     ]
    },
    {
     "name": "stdout",
     "output_type": "stream",
     "text": [
      "Flattened list:\n",
      "[1, 2, 3, 4, 5, 6]\n"
     ]
    }
   ],
   "source": [
    "#Q25. Write a program to flatten a nested list using list comprehension.\n",
    "# Function to flatten a nested list\n",
    "def flatten_list(nested_list):\n",
    "    return [item for sublist in nested_list for item in sublist]\n",
    "\n",
    "# Input: Get the nested list from the user\n",
    "nested_list = eval(input(\"Enter a nested list: \"))\n",
    "\n",
    "# Call the function to flatten the list\n",
    "flattened_list = flatten_list(nested_list)\n",
    "\n",
    "# Print the flattened list\n",
    "print(\"Flattened list:\")\n",
    "print(flattened_list)\n"
   ]
  },
  {
   "cell_type": "code",
   "execution_count": 34,
   "id": "7b5eae70-46ae-4872-9eaa-c2f01bc10b72",
   "metadata": {},
   "outputs": [
    {
     "name": "stdout",
     "output_type": "stream",
     "text": [
      "sum of even numbers is : 30\n",
      "sum of odd numbers is : 25\n"
     ]
    }
   ],
   "source": [
    "#Q26. Develop a program that computes the sum of even and odd numbers in a list separately using list\n",
    "# comprehension.\n",
    "l1=[1,2,3,4,5,6,7,8,9,10]\n",
    "even_numbers=sum([i for i in l1 if i%2==0])\n",
    "odd_numbers=sum([x for x in l1 if x%2!=0])\n",
    "print(\"sum of even numbers is :\",even_numbers)\n",
    "print(\"sum of odd numbers is :\",odd_numbers)"
   ]
  },
  {
   "cell_type": "code",
   "execution_count": 40,
   "id": "57d65a5b-dc9d-42fc-8db7-77582ad67876",
   "metadata": {},
   "outputs": [
    {
     "name": "stdout",
     "output_type": "stream",
     "text": [
      "List of squares of odd numbers b/w 1 to 10 is: [1, 9, 25, 49, 81]\n"
     ]
    }
   ],
   "source": [
    "#Q27.Create a program that generates a list of squares of odd numbers between 1 and 10 using list\n",
    "# comprehension.\n",
    "required_list=[i**2 for i in range(1,11) if i%2!=0 ]\n",
    "print(\"List of squares of odd numbers b/w 1 to 10 is:\", required_)\n"
   ]
  },
  {
   "cell_type": "code",
   "execution_count": 53,
   "id": "ee54215b-3e0f-40a7-9873-0215520881e9",
   "metadata": {},
   "outputs": [
    {
     "name": "stdout",
     "output_type": "stream",
     "text": [
      "Combined Dictionary: {'a': 1, 'b': 2, 'c': 3, 'd': 4}\n"
     ]
    }
   ],
   "source": [
    "#Q28. Write a program that combines two lists into a dictionary using list comprehension.\n",
    "# l1=[1,2,3,4,5]\n",
    "# l2=[6,7,8,9,10]\n",
    "# dict_list={\"\".join(str(l1+l2)), key==l1 and value==l2}\n",
    "L1=['a','b','c','d']\n",
    "L2=[1,2,3,4]\n",
    "\n",
    "dict_list = {keys:value for keys,value in zip(L1, L2)}\n",
    "\n",
    "print(\"Combined Dictionary:\",dict_list)\n"
   ]
  },
  {
   "cell_type": "code",
   "execution_count": 8,
   "id": "4f2c7f90-eab7-436c-807d-8f0698e5ca4c",
   "metadata": {},
   "outputs": [
    {
     "data": {
      "text/plain": [
       "['e', 'o', 'o']"
      ]
     },
     "execution_count": 8,
     "metadata": {},
     "output_type": "execute_result"
    }
   ],
   "source": [
    "#Q29. Develop a program that extracts the vowels from a string and stores them in a list using list comprehension.\n",
    "l='hello!, world'\n",
    "vowels=['a','e','i','o','u','A','E','I','O','U']\n",
    "extract_=[x for x in l if x in vowels]\n",
    "extract_\n"
   ]
  },
  {
   "cell_type": "code",
   "execution_count": 29,
   "id": "0f4abfcc-ccbd-483d-9960-4ab0978aebf1",
   "metadata": {},
   "outputs": [
    {
     "data": {
      "text/plain": [
       "['3 4', '5 6']"
      ]
     },
     "execution_count": 29,
     "metadata": {},
     "output_type": "execute_result"
    }
   ],
   "source": [
    "#Q30. Create a program that removes all non-numeric characters from a list of strings using list comprehension.\n",
    "l1='34cd','56ef'\n",
    "# or l1=input('enter list of string containing both numeric and alphabtes')\n",
    "required_list=[\" \".join(x for x in b if x.isnumeric()) for b in l1]\n",
    "required_list"
   ]
  },
  {
   "cell_type": "code",
   "execution_count": null,
   "id": "b93615b7-dd54-42d1-9d78-703e6d7bcf81",
   "metadata": {},
   "outputs": [],
   "source": [
    "#Q31. Write a program to generate a list of prime numbers using the Sieve of Eratosthenes algorithm and list\n",
    "# comprehension.\n",
    "# unable to understand currently"
   ]
  },
  {
   "cell_type": "code",
   "execution_count": 24,
   "id": "d4de20a4-3509-4da1-9d13-e3b28f066634",
   "metadata": {},
   "outputs": [
    {
     "name": "stdin",
     "output_type": "stream",
     "text": [
      "Enter the limit 20\n"
     ]
    },
    {
     "name": "stdout",
     "output_type": "stream",
     "text": [
      "Pythagorean triplets up to 20 are:\n",
      " [(3, 4, 5), (5, 12, 13), (6, 8, 10), (8, 15, 17), (9, 12, 15), (12, 16, 20)]\n"
     ]
    }
   ],
   "source": [
    "#Q32.Create a program that generates a list of all Pythagorean triplets up to a specified limit using list\n",
    "# comprehension.\n",
    "limit=int(input(\"Enter the limit\"))\n",
    "triplets=[]\n",
    "for a in range(1,limit+1):\n",
    "    for b in range(a,limit+1):\n",
    "        c_square= a**2+b**2      #pythagores formula--a**2+b**2=c**2\n",
    "        c=int(c_square**0.5)\n",
    "        if c <= limit and c_square == c**2:\n",
    "            triplets.append((a,b,c))\n",
    "print(\"Pythagorean triplets up to\",limit,\"are:\\n\",triplets)\n",
    "# understand again and do this again"
   ]
  },
  {
   "cell_type": "code",
   "execution_count": 1,
   "id": "38bc27d0-39d6-4b4c-812b-961f5fa4b402",
   "metadata": {},
   "outputs": [
    {
     "name": "stdout",
     "output_type": "stream",
     "text": [
      "All possible combinations of the two lists:\n",
      " [(1, 'a'), (1, 'b'), (1, 'c'), (1, 'd'), (2, 'a'), (2, 'b'), (2, 'c'), (2, 'd'), (3, 'a'), (3, 'b'), (3, 'c'), (3, 'd'), (4, 'a'), (4, 'b'), (4, 'c'), (4, 'd')]\n"
     ]
    }
   ],
   "source": [
    "#Q33.Develop a program that generates a list of all possible combinations of two lists using list comprehension.\n",
    "import itertools\n",
    "l1=[1,2,3,4]\n",
    "l2=['a','b','c','d']\n",
    "# l1 = input(\"Enter the first list of elements separated by spaces: \").split()\n",
    "# l2 = input(\"Enter the second list of elements separated by spaces: \").split()\n",
    "\n",
    "combinations = [(x, y) for x, y in itertools.product(l1, l2)]\n",
    "\n",
    "print(\"All possible combinations of the two lists:\\n\",combinations)"
   ]
  },
  {
   "cell_type": "code",
   "execution_count": 11,
   "id": "ba7c4902-d3d7-47d9-b125-ba592ab3d1bb",
   "metadata": {},
   "outputs": [
    {
     "name": "stdout",
     "output_type": "stream",
     "text": [
      "Mean: 5.833333333333333\n",
      "Median: 6.5\n",
      "Mode: [7, 8]\n"
     ]
    }
   ],
   "source": [
    "#Q34.Write a program that calculates the mean, median, and mode of a list of numbers using list\n",
    "# comprehension.\n",
    "\n",
    "from collections import Counter\n",
    "\n",
    "L1=[1,2,3,4,5,6,7,7,8,8,9,10]\n",
    " \n",
    "mean = sum(L1) / len(L1)\n",
    "\n",
    "#Median\n",
    "# sort_ = sorted(L1)\n",
    "n = len(L1)\n",
    "if n % 2 == 1:\n",
    "    median = L1[n // 2]\n",
    "else:\n",
    "    median = (L1[n // 2 - 1] + L1[n // 2]) / 2\n",
    "\n",
    "#Mode\n",
    "counts = Counter(L1)\n",
    "mode = [key for key, value in counts.items() if value == max(counts.values())]\n",
    "\n",
    "\n",
    "print(\"Mean:\", mean)\n",
    "print(\"Median:\", median)\n",
    "print(\"Mode:\", mode)\n",
    "# UNDERSTAND AND DO THIS AGAIN\n",
    "# IF THERE IS NO MODE IN LIST THEN THE PRINT(MODE) RESULT WILL BE THE ORIGINAL LIST"
   ]
  },
  {
   "cell_type": "code",
   "execution_count": 16,
   "id": "5c4469fd-233a-4118-bcbf-a2f702e637fc",
   "metadata": {},
   "outputs": [],
   "source": [
    "# # Q35. Create a program that generates Pascal's triangle up to a specified number of rows using list\n",
    "# # comprehension.\n",
    "# # Function to generate Pascal's Triangle\n",
    "# def generate_pascals_triangle(n):\n",
    "#     triangle = []\n",
    "#     for i in range(n):\n",
    "#         row = [1]  # First element in each row is always 1\n",
    "#         if triangle:  # If there are previous rows\n",
    "#             last_row = triangle[-1]\n",
    "#             # Calculate the rest of the elements in the current row\n",
    "#             row.extend([last_row[j - 1] + last_row[j] for j in range(1, i)])\n",
    "#             row.append(1)  # Last element in each row is always 1\n",
    "#         triangle.append(row)\n",
    "#     return triangle\n",
    "\n",
    "# # Input: Get the number of rows from the user\n",
    "# num_rows = int(input(\"Enter the number of rows for Pascal's Triangle: \"))\n",
    "\n",
    "# # Generate Pascal's Triangle\n",
    "# pascals_triangle = generate_pascals_triangle(num_rows)\n",
    "\n",
    "# # Print Pascal's Triangle\n",
    "# print(\"Pascal's Triangle with\", num_rows, \"rows:\")\n",
    "# for row in pascals_triangle:\n",
    "#     print(row)\n",
    "# UNDERSTAND AND DO THIS MULTIPLE TIMES\n",
    "# too much to understand currently"
   ]
  },
  {
   "cell_type": "code",
   "execution_count": 47,
   "id": "a337a9a1-f401-43ce-af8c-b8283cfafc26",
   "metadata": {},
   "outputs": [
    {
     "name": "stdout",
     "output_type": "stream",
     "text": [
      "Factorial of 1 is 1 and the sum of its digits is 1\n",
      "Factorial of 2 is 2 and the sum of its digits is 2\n",
      "Factorial of 3 is 6 and the sum of its digits is 6\n",
      "Factorial of 4 is 24 and the sum of its digits is 6\n",
      "Factorial of 5 is 120 and the sum of its digits is 3\n"
     ]
    }
   ],
   "source": [
    "#Q36. Develop a program that calculates the sum of the digits of a factorial of numbers from 1 to 5 using list\n",
    "# comprehension.\n",
    "\n",
    "def factorial(n):\n",
    "    if n == 0 or n == 1:\n",
    "        return 1\n",
    "    else:\n",
    "        return n * factorial(n - 1)\n",
    "\n",
    "# sum of digits\n",
    "def sum_of_digits(number):\n",
    "    return sum(int(digit) for digit in str(number))\n",
    "\n",
    "for i in range(1, 6):\n",
    "    fact = factorial(i)\n",
    "    digit_sum = sum_of_digits(fact)\n",
    "    print(f\"Factorial of {i} is {fact} and the sum of its digits is {digit_sum}\")\n",
    "# go through this again and do it again"
   ]
  },
  {
   "cell_type": "code",
   "execution_count": 56,
   "id": "010d1ce9-ea62-4bde-ab5f-8eec7661591d",
   "metadata": {},
   "outputs": [
    {
     "data": {
      "text/plain": [
       "['Ayush']"
      ]
     },
     "execution_count": 56,
     "metadata": {},
     "output_type": "execute_result"
    }
   ],
   "source": [
    "#Q37. Write a program that finds the longest word in a sentence using list comprehension.\n",
    "a='my name is Ayush'\n",
    "longest_word=[i for i in a.split() if len(i) == max(len(j)for j in a.split())]\n",
    "# split_=a.split()\n",
    "# longest_word=[i for i in split_ if len(i)== max(len(j) for j in split_)] \n",
    "longest_word"
   ]
  },
  {
   "cell_type": "code",
   "execution_count": 60,
   "id": "5af8b9ec-3fee-4dce-a7de-fdcdbf1b1ded",
   "metadata": {},
   "outputs": [
    {
     "name": "stdin",
     "output_type": "stream",
     "text": [
      "Enter a list of strings separated by spaces:  ayush soltitude\n"
     ]
    },
    {
     "name": "stdout",
     "output_type": "stream",
     "text": [
      "Strings with more than three vowels:\n",
      " ['soltitude']\n"
     ]
    }
   ],
   "source": [
    "#Q38.Create a program that filters a list of strings to include only those with more than three vowels using list\n",
    "# comprehension.\n",
    "\n",
    "def count_vowels(s):\n",
    "    vowels = \"AEIOUaeiou\"\n",
    "    return sum(1 for char in s if char in vowels) # why 1 is used here\n",
    "\n",
    "string_list = input(\"Enter a list of strings separated by spaces: \").split()\n",
    "\n",
    "filtered_strings = [s for s in string_list if count_vowels(s) > 3]\n",
    "\n",
    "print(\"Strings with more than three vowels:\\n\",filtered_strings)\n",
    "\n",
    "#understand it again"
   ]
  },
  {
   "cell_type": "code",
   "execution_count": 62,
   "id": "d3d770ba-3329-4bba-9a82-aea25e57acec",
   "metadata": {},
   "outputs": [
    {
     "name": "stdout",
     "output_type": "stream",
     "text": [
      "Sum of digits of numbers from 1 to 1000:\n",
      "Individual sums of digits: [1, 2, 3, 4, 5, 6, 7, 8, 9, 1, 2, 3, 4, 5, 6, 7, 8, 9, 10, 2, 3, 4, 5, 6, 7, 8, 9, 10, 11, 3, 4, 5, 6, 7, 8, 9, 10, 11, 12, 4, 5, 6, 7, 8, 9, 10, 11, 12, 13, 5, 6, 7, 8, 9, 10, 11, 12, 13, 14, 6, 7, 8, 9, 10, 11, 12, 13, 14, 15, 7, 8, 9, 10, 11, 12, 13, 14, 15, 16, 8, 9, 10, 11, 12, 13, 14, 15, 16, 17, 9, 10, 11, 12, 13, 14, 15, 16, 17, 18, 1, 2, 3, 4, 5, 6, 7, 8, 9, 10, 2, 3, 4, 5, 6, 7, 8, 9, 10, 11, 3, 4, 5, 6, 7, 8, 9, 10, 11, 12, 4, 5, 6, 7, 8, 9, 10, 11, 12, 13, 5, 6, 7, 8, 9, 10, 11, 12, 13, 14, 6, 7, 8, 9, 10, 11, 12, 13, 14, 15, 7, 8, 9, 10, 11, 12, 13, 14, 15, 16, 8, 9, 10, 11, 12, 13, 14, 15, 16, 17, 9, 10, 11, 12, 13, 14, 15, 16, 17, 18, 10, 11, 12, 13, 14, 15, 16, 17, 18, 19, 2, 3, 4, 5, 6, 7, 8, 9, 10, 11, 3, 4, 5, 6, 7, 8, 9, 10, 11, 12, 4, 5, 6, 7, 8, 9, 10, 11, 12, 13, 5, 6, 7, 8, 9, 10, 11, 12, 13, 14, 6, 7, 8, 9, 10, 11, 12, 13, 14, 15, 7, 8, 9, 10, 11, 12, 13, 14, 15, 16, 8, 9, 10, 11, 12, 13, 14, 15, 16, 17, 9, 10, 11, 12, 13, 14, 15, 16, 17, 18, 10, 11, 12, 13, 14, 15, 16, 17, 18, 19, 11, 12, 13, 14, 15, 16, 17, 18, 19, 20, 3, 4, 5, 6, 7, 8, 9, 10, 11, 12, 4, 5, 6, 7, 8, 9, 10, 11, 12, 13, 5, 6, 7, 8, 9, 10, 11, 12, 13, 14, 6, 7, 8, 9, 10, 11, 12, 13, 14, 15, 7, 8, 9, 10, 11, 12, 13, 14, 15, 16, 8, 9, 10, 11, 12, 13, 14, 15, 16, 17, 9, 10, 11, 12, 13, 14, 15, 16, 17, 18, 10, 11, 12, 13, 14, 15, 16, 17, 18, 19, 11, 12, 13, 14, 15, 16, 17, 18, 19, 20, 12, 13, 14, 15, 16, 17, 18, 19, 20, 21, 4, 5, 6, 7, 8, 9, 10, 11, 12, 13, 5, 6, 7, 8, 9, 10, 11, 12, 13, 14, 6, 7, 8, 9, 10, 11, 12, 13, 14, 15, 7, 8, 9, 10, 11, 12, 13, 14, 15, 16, 8, 9, 10, 11, 12, 13, 14, 15, 16, 17, 9, 10, 11, 12, 13, 14, 15, 16, 17, 18, 10, 11, 12, 13, 14, 15, 16, 17, 18, 19, 11, 12, 13, 14, 15, 16, 17, 18, 19, 20, 12, 13, 14, 15, 16, 17, 18, 19, 20, 21, 13, 14, 15, 16, 17, 18, 19, 20, 21, 22, 5, 6, 7, 8, 9, 10, 11, 12, 13, 14, 6, 7, 8, 9, 10, 11, 12, 13, 14, 15, 7, 8, 9, 10, 11, 12, 13, 14, 15, 16, 8, 9, 10, 11, 12, 13, 14, 15, 16, 17, 9, 10, 11, 12, 13, 14, 15, 16, 17, 18, 10, 11, 12, 13, 14, 15, 16, 17, 18, 19, 11, 12, 13, 14, 15, 16, 17, 18, 19, 20, 12, 13, 14, 15, 16, 17, 18, 19, 20, 21, 13, 14, 15, 16, 17, 18, 19, 20, 21, 22, 14, 15, 16, 17, 18, 19, 20, 21, 22, 23, 6, 7, 8, 9, 10, 11, 12, 13, 14, 15, 7, 8, 9, 10, 11, 12, 13, 14, 15, 16, 8, 9, 10, 11, 12, 13, 14, 15, 16, 17, 9, 10, 11, 12, 13, 14, 15, 16, 17, 18, 10, 11, 12, 13, 14, 15, 16, 17, 18, 19, 11, 12, 13, 14, 15, 16, 17, 18, 19, 20, 12, 13, 14, 15, 16, 17, 18, 19, 20, 21, 13, 14, 15, 16, 17, 18, 19, 20, 21, 22, 14, 15, 16, 17, 18, 19, 20, 21, 22, 23, 15, 16, 17, 18, 19, 20, 21, 22, 23, 24, 7, 8, 9, 10, 11, 12, 13, 14, 15, 16, 8, 9, 10, 11, 12, 13, 14, 15, 16, 17, 9, 10, 11, 12, 13, 14, 15, 16, 17, 18, 10, 11, 12, 13, 14, 15, 16, 17, 18, 19, 11, 12, 13, 14, 15, 16, 17, 18, 19, 20, 12, 13, 14, 15, 16, 17, 18, 19, 20, 21, 13, 14, 15, 16, 17, 18, 19, 20, 21, 22, 14, 15, 16, 17, 18, 19, 20, 21, 22, 23, 15, 16, 17, 18, 19, 20, 21, 22, 23, 24, 16, 17, 18, 19, 20, 21, 22, 23, 24, 25, 8, 9, 10, 11, 12, 13, 14, 15, 16, 17, 9, 10, 11, 12, 13, 14, 15, 16, 17, 18, 10, 11, 12, 13, 14, 15, 16, 17, 18, 19, 11, 12, 13, 14, 15, 16, 17, 18, 19, 20, 12, 13, 14, 15, 16, 17, 18, 19, 20, 21, 13, 14, 15, 16, 17, 18, 19, 20, 21, 22, 14, 15, 16, 17, 18, 19, 20, 21, 22, 23, 15, 16, 17, 18, 19, 20, 21, 22, 23, 24, 16, 17, 18, 19, 20, 21, 22, 23, 24, 25, 17, 18, 19, 20, 21, 22, 23, 24, 25, 26, 9, 10, 11, 12, 13, 14, 15, 16, 17, 18, 10, 11, 12, 13, 14, 15, 16, 17, 18, 19, 11, 12, 13, 14, 15, 16, 17, 18, 19, 20, 12, 13, 14, 15, 16, 17, 18, 19, 20, 21, 13, 14, 15, 16, 17, 18, 19, 20, 21, 22, 14, 15, 16, 17, 18, 19, 20, 21, 22, 23, 15, 16, 17, 18, 19, 20, 21, 22, 23, 24, 16, 17, 18, 19, 20, 21, 22, 23, 24, 25, 17, 18, 19, 20, 21, 22, 23, 24, 25, 26, 18, 19, 20, 21, 22, 23, 24, 25, 26, 27, 1]\n",
      "Total sum: 13501\n"
     ]
    }
   ],
   "source": [
    "#Q39. Develop a program that calculates the sum of the digits of numbers from 1 to 1000 using list\n",
    "# comprehension.\n",
    "\n",
    "def sum_of_digits(number):\n",
    "    return sum(int(digit) for digit in str(number))\n",
    "\n",
    "sums_of_digits = [sum_of_digits(num) for num in range(1, 1001)]\n",
    "\n",
    "total_sum = sum(sums_of_digits)\n",
    "\n",
    "print(\"Sum of digits of numbers from 1 to 1000:\")\n",
    "print(\"Individual sums of digits:\", sums_of_digits)\n",
    "print(\"Total sum:\", total_sum)\n",
    "\n",
    "#understand it again\n"
   ]
  },
  {
   "cell_type": "code",
   "execution_count": 3,
   "id": "c697e237-9ddd-4b56-b344-86c51754e06d",
   "metadata": {},
   "outputs": [
    {
     "name": "stdout",
     "output_type": "stream",
     "text": [
      "Prime palindromic numbers up to 1000:\n",
      "[2, 3, 5, 7, 11, 101, 131, 151, 181, 191, 313, 353, 373, 383, 727, 757, 787, 797, 919, 929]\n"
     ]
    }
   ],
   "source": [
    "#Q40.Write a program that generates a list of prime palindromic numbers using list comprehension.\n",
    "\n",
    "def is_prime(n):\n",
    "    if n <= 1:\n",
    "        return False\n",
    "    if n == 2:\n",
    "        return True\n",
    "    if n % 2 == 0:\n",
    "        return False\n",
    "    for i in range(3, int(n**0.5) + 1, 2): #understand logic of this step again nd do it again\n",
    "        if n % i == 0:\n",
    "            return False\n",
    "    return True\n",
    "\n",
    "prime_palindromic_numbers = [i for i in range(1, 1000) if is_prime(i) and str(i) == str(i)[::-1]]\n",
    "\n",
    "# Print the list of prime palindromic numbers\n",
    "print(\"Prime palindromic numbers up to 1000:\")\n",
    "print(prime_palindromic_numbers)\n"
   ]
  }
 ],
 "metadata": {
  "kernelspec": {
   "display_name": "Python 3 (ipykernel)",
   "language": "python",
   "name": "python3"
  },
  "language_info": {
   "codemirror_mode": {
    "name": "ipython",
    "version": 3
   },
   "file_extension": ".py",
   "mimetype": "text/x-python",
   "name": "python",
   "nbconvert_exporter": "python",
   "pygments_lexer": "ipython3",
   "version": "3.10.8"
  }
 },
 "nbformat": 4,
 "nbformat_minor": 5
}
